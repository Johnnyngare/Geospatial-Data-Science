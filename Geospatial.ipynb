{
 "cells": [
  {
   "cell_type": "code",
   "execution_count": 1,
   "id": "e2066a70-3f06-4505-adbd-fa4e2c7a6eca",
   "metadata": {},
   "outputs": [],
   "source": [
    "import rioxarray"
   ]
  },
  {
   "cell_type": "code",
   "execution_count": 2,
   "id": "5750ec60-00d5-4c58-8548-e67b0635d953",
   "metadata": {},
   "outputs": [],
   "source": [
    "from pystac_client import Client"
   ]
  },
  {
   "cell_type": "code",
   "execution_count": 3,
   "id": "db18c087-e0be-4888-b89c-97f5838d1831",
   "metadata": {},
   "outputs": [],
   "source": [
    "client = Client.open(\"https://earth-search.aws.element84.com/v1\")"
   ]
  },
  {
   "cell_type": "code",
   "execution_count": 4,
   "id": "c897fb1e-44f9-4347-ac3e-665d9f0b3c37",
   "metadata": {},
   "outputs": [],
   "source": [
    "collection = \"sentinel-2-l2a\""
   ]
  },
  {
   "cell_type": "code",
   "execution_count": 5,
   "id": "86fec27e-f8b8-49e0-9cf3-63cc26659cc9",
   "metadata": {},
   "outputs": [],
   "source": [
    "from shapely.geometry import Point"
   ]
  },
  {
   "cell_type": "code",
   "execution_count": 6,
   "id": "f3cf72cf-9e52-4a85-ad9f-0de0d8aa5872",
   "metadata": {},
   "outputs": [],
   "source": [
    "point = Point(4.89, 52.37)"
   ]
  },
  {
   "cell_type": "code",
   "execution_count": 7,
   "id": "56e6cbff-6d9c-431f-879f-07a2f50cfa75",
   "metadata": {},
   "outputs": [],
   "source": [
    "search = client.search(\n",
    "    collections=[collection],\n",
    "    intersects=point,\n",
    "    max_items=10,\n",
    ")"
   ]
  },
  {
   "cell_type": "code",
   "execution_count": 8,
   "id": "1129035d-7c81-42c9-b1c2-34ed27600492",
   "metadata": {},
   "outputs": [
    {
     "name": "stdout",
     "output_type": "stream",
     "text": [
      "1128\n"
     ]
    }
   ],
   "source": [
    "print(search.matched())"
   ]
  },
  {
   "cell_type": "code",
   "execution_count": 9,
   "id": "2449d33b-f4ad-45a8-8167-107114344ed1",
   "metadata": {},
   "outputs": [],
   "source": [
    "items = search.item_collection()"
   ]
  },
  {
   "cell_type": "code",
   "execution_count": 10,
   "id": "9e4f1fc7-fe57-4845-8a52-585451930d93",
   "metadata": {},
   "outputs": [
    {
     "name": "stdout",
     "output_type": "stream",
     "text": [
      "10\n"
     ]
    }
   ],
   "source": [
    "print(len(items))"
   ]
  },
  {
   "cell_type": "code",
   "execution_count": 11,
   "id": "7fe87d53-eeab-4bff-bbe8-8088e7e0311a",
   "metadata": {},
   "outputs": [
    {
     "name": "stdout",
     "output_type": "stream",
     "text": [
      "<Item id=S2A_31UFU_20240110_0_L2A>\n",
      "<Item id=S2A_31UFU_20240107_0_L2A>\n",
      "<Item id=S2B_31UFU_20240105_0_L2A>\n",
      "<Item id=S2B_31UFU_20240102_0_L2A>\n",
      "<Item id=S2A_31UFU_20231231_0_L2A>\n",
      "<Item id=S2A_31UFU_20231228_0_L2A>\n",
      "<Item id=S2B_31UFU_20231226_0_L2A>\n",
      "<Item id=S2B_31UFU_20231223_0_L2A>\n",
      "<Item id=S2A_31UFU_20231221_0_L2A>\n",
      "<Item id=S2A_31UFU_20231218_0_L2A>\n"
     ]
    }
   ],
   "source": [
    "for item in items:\n",
    "    print(item)"
   ]
  },
  {
   "cell_type": "code",
   "execution_count": 12,
   "id": "5d7896e5-f0f9-4981-941f-fddc489a267c",
   "metadata": {},
   "outputs": [
    {
     "name": "stdout",
     "output_type": "stream",
     "text": [
      "2024-01-10 10:56:18.003000+00:00\n",
      "{'type': 'Polygon', 'coordinates': [[[4.498475093400055, 53.240199174677954], [4.464995307918359, 52.25346561204129], [6.071664488869862, 52.22257539160585], [6.141754296879459, 53.20819279121764], [4.498475093400055, 53.240199174677954]]]}\n",
      "{'created': '2024-01-10T17:23:09.195Z', 'platform': 'sentinel-2a', 'constellation': 'sentinel-2', 'instruments': ['msi'], 'eo:cloud_cover': 0.726346, 'proj:epsg': 32631, 'mgrs:utm_zone': 31, 'mgrs:latitude_band': 'U', 'mgrs:grid_square': 'FU', 'grid:code': 'MGRS-31UFU', 'view:sun_azimuth': 168.085907244222, 'view:sun_elevation': 14.487068962718297, 's2:degraded_msi_data_percentage': 0.0067, 's2:nodata_pixel_percentage': 0.000136, 's2:saturated_defective_pixel_percentage': 0, 's2:dark_features_percentage': 0.046612, 's2:cloud_shadow_percentage': 0.044157, 's2:vegetation_percentage': 22.786395, 's2:not_vegetated_percentage': 37.997738, 's2:water_percentage': 37.733451, 's2:unclassified_percentage': 0.045126, 's2:medium_proba_clouds_percentage': 0.034718, 's2:high_proba_clouds_percentage': 0.001503, 's2:thin_cirrus_percentage': 0.690125, 's2:snow_ice_percentage': 0.620171, 's2:product_type': 'S2MSI2A', 's2:processing_baseline': '05.10', 's2:product_uri': 'S2A_MSIL2A_20240110T105421_N0510_R051_T31UFU_20240110T151449.SAFE', 's2:generation_time': '2024-01-10T15:14:49.000000Z', 's2:datatake_id': 'GS2A_20240110T105421_044664_N05.10', 's2:datatake_type': 'INS-NOBS', 's2:datastrip_id': 'S2A_OPER_MSI_L2A_DS_2APS_20240110T151449_S20240110T105435_N05.10', 's2:granule_id': 'S2A_OPER_MSI_L2A_TL_2APS_20240110T151449_A044664_T31UFU_N05.10', 's2:reflectance_conversion_factor': 1.03428237764879, 'datetime': '2024-01-10T10:56:18.003000Z', 's2:sequence': '0', 'earthsearch:s3_path': 's3://sentinel-cogs/sentinel-s2-l2a-cogs/31/U/FU/2024/1/S2A_31UFU_20240110_0_L2A', 'earthsearch:payload_id': 'roda-sentinel2/workflow-sentinel2-to-stac/50f03584e9e8bf832bedd3dc20a63e69', 'earthsearch:boa_offset_applied': True, 'processing:software': {'sentinel2-to-stac': '0.1.1'}, 'updated': '2024-01-10T17:23:09.195Z'}\n"
     ]
    }
   ],
   "source": [
    "item = items[0]\n",
    "print(item.datetime)\n",
    "print(item.geometry)\n",
    "print(item.properties)"
   ]
  },
  {
   "cell_type": "code",
   "execution_count": 13,
   "id": "23f1c2c9-07df-4ef1-baa5-25161ba65264",
   "metadata": {},
   "outputs": [],
   "source": [
    "bbox = point.buffer(0.01).bounds"
   ]
  },
  {
   "cell_type": "code",
   "execution_count": 14,
   "id": "0cc3235f-a295-4f93-b94c-1eca5bab02b1",
   "metadata": {},
   "outputs": [
    {
     "name": "stdout",
     "output_type": "stream",
     "text": [
      "6\n"
     ]
    }
   ],
   "source": [
    "search = client.search(\n",
    "    collections=[collection],\n",
    "    bbox=bbox,\n",
    "    datetime=\"2020-03-20/2020-03-30\",\n",
    "    query=[\"eo:cloud_cover<15\"]\n",
    ")\n",
    "print(search.matched())"
   ]
  },
  {
   "cell_type": "code",
   "execution_count": 15,
   "id": "dd279fde-f570-40ed-a6fc-c903d230b6e3",
   "metadata": {},
   "outputs": [],
   "source": [
    "items = search.item_collection()\n",
    "items.save_object(\"search.json\")"
   ]
  },
  {
   "cell_type": "code",
   "execution_count": 16,
   "id": "fd4d06f2-7d78-47e8-b017-d8c3303d6bb3",
   "metadata": {},
   "outputs": [
    {
     "name": "stdout",
     "output_type": "stream",
     "text": [
      "dict_keys(['aot', 'blue', 'coastal', 'granule_metadata', 'green', 'nir', 'nir08', 'nir09', 'red', 'rededge1', 'rededge2', 'rededge3', 'scl', 'swir16', 'swir22', 'thumbnail', 'tileinfo_metadata', 'visual', 'wvp', 'aot-jp2', 'blue-jp2', 'coastal-jp2', 'green-jp2', 'nir-jp2', 'nir08-jp2', 'nir09-jp2', 'red-jp2', 'rededge1-jp2', 'rededge2-jp2', 'rededge3-jp2', 'scl-jp2', 'swir16-jp2', 'swir22-jp2', 'visual-jp2', 'wvp-jp2'])\n"
     ]
    }
   ],
   "source": [
    "assets = items[0].assets\n",
    "print(assets.keys())"
   ]
  },
  {
   "cell_type": "code",
   "execution_count": 17,
   "id": "8ce75832-18db-4474-af6c-6687d515de4c",
   "metadata": {},
   "outputs": [
    {
     "name": "stdout",
     "output_type": "stream",
     "text": [
      "aot: Aerosol optical thickness (AOT)\n",
      "blue: Blue (band 2) - 10m\n",
      "coastal: Coastal aerosol (band 1) - 60m\n",
      "granule_metadata: None\n",
      "green: Green (band 3) - 10m\n",
      "nir: NIR 1 (band 8) - 10m\n",
      "nir08: NIR 2 (band 8A) - 20m\n",
      "nir09: NIR 3 (band 9) - 60m\n",
      "red: Red (band 4) - 10m\n",
      "rededge1: Red edge 1 (band 5) - 20m\n",
      "rededge2: Red edge 2 (band 6) - 20m\n",
      "rededge3: Red edge 3 (band 7) - 20m\n",
      "scl: Scene classification map (SCL)\n",
      "swir16: SWIR 1 (band 11) - 20m\n",
      "swir22: SWIR 2 (band 12) - 20m\n",
      "thumbnail: Thumbnail image\n",
      "tileinfo_metadata: None\n",
      "visual: True color image\n",
      "wvp: Water vapour (WVP)\n",
      "aot-jp2: Aerosol optical thickness (AOT)\n",
      "blue-jp2: Blue (band 2) - 10m\n",
      "coastal-jp2: Coastal aerosol (band 1) - 60m\n",
      "green-jp2: Green (band 3) - 10m\n",
      "nir-jp2: NIR 1 (band 8) - 10m\n",
      "nir08-jp2: NIR 2 (band 8A) - 20m\n",
      "nir09-jp2: NIR 3 (band 9) - 60m\n",
      "red-jp2: Red (band 4) - 10m\n",
      "rededge1-jp2: Red edge 1 (band 5) - 20m\n",
      "rededge2-jp2: Red edge 2 (band 6) - 20m\n",
      "rededge3-jp2: Red edge 3 (band 7) - 20m\n",
      "scl-jp2: Scene classification map (SCL)\n",
      "swir16-jp2: SWIR 1 (band 11) - 20m\n",
      "swir22-jp2: SWIR 2 (band 12) - 20m\n",
      "visual-jp2: True color image\n",
      "wvp-jp2: Water vapour (WVP)\n"
     ]
    }
   ],
   "source": [
    "for key, asset in assets.items():\n",
    "    print(f\"{key}: {asset.title}\")\n",
    "\n"
   ]
  },
  {
   "cell_type": "code",
   "execution_count": 18,
   "id": "70f7a597-46f3-4fc5-9bab-b59cc3b97c31",
   "metadata": {},
   "outputs": [
    {
     "name": "stdout",
     "output_type": "stream",
     "text": [
      "https://sentinel-cogs.s3.us-west-2.amazonaws.com/sentinel-s2-l2a-cogs/31/U/FU/2020/3/S2A_31UFU_20200328_1_L2A/thumbnail.jpg\n"
     ]
    }
   ],
   "source": [
    "print(assets[\"thumbnail\"].href)"
   ]
  },
  {
   "cell_type": "code",
   "execution_count": 19,
   "id": "d70be8e2-c087-40c3-82d4-46531cb387e5",
   "metadata": {},
   "outputs": [],
   "source": [
    "import rioxarray"
   ]
  },
  {
   "cell_type": "code",
   "execution_count": 20,
   "id": "7a828f89-8770-44af-9edc-f187e9195676",
   "metadata": {},
   "outputs": [],
   "source": [
    "nir_href = assets[\"nir\"].href"
   ]
  },
  {
   "cell_type": "code",
   "execution_count": 21,
   "id": "ea84ea9b-e250-48bf-bca3-c0061b488a55",
   "metadata": {},
   "outputs": [],
   "source": [
    "nir = rioxarray.open_rasterio(nir_href)"
   ]
  },
  {
   "cell_type": "code",
   "execution_count": 22,
   "id": "2af5f28a-ea64-4d7c-bf0b-208c74e5e200",
   "metadata": {},
   "outputs": [
    {
     "name": "stdout",
     "output_type": "stream",
     "text": [
      "<xarray.DataArray (band: 1, y: 10980, x: 10980)>\n",
      "[120560400 values with dtype=uint16]\n",
      "Coordinates:\n",
      "  * band         (band) int32 1\n",
      "  * x            (x) float64 6e+05 6e+05 6e+05 ... 7.098e+05 7.098e+05 7.098e+05\n",
      "  * y            (y) float64 5.9e+06 5.9e+06 5.9e+06 ... 5.79e+06 5.79e+06\n",
      "    spatial_ref  int32 0\n",
      "Attributes:\n",
      "    AREA_OR_POINT:       Area\n",
      "    OVR_RESAMPLING_ALG:  AVERAGE\n",
      "    _FillValue:          0\n",
      "    scale_factor:        1.0\n",
      "    add_offset:          0.0\n"
     ]
    }
   ],
   "source": [
    "print(nir)"
   ]
  },
  {
   "cell_type": "code",
   "execution_count": null,
   "id": "728486f0-82e3-4e37-a5c0-36018cabcdfe",
   "metadata": {},
   "outputs": [],
   "source": [
    "nir.rio.to_raster(\"nir.tif\")"
   ]
  },
  {
   "cell_type": "code",
   "execution_count": null,
   "id": "4e3e7fc8-34a1-479f-b93b-3a4290f0e17b",
   "metadata": {},
   "outputs": [],
   "source": [
    "nir[0,1500:2200,1500:2200].rio.to_raster(\"nir_subset.tif\")"
   ]
  },
  {
   "cell_type": "code",
   "execution_count": null,
   "id": "68f89e84-3b1f-43d4-affe-da3fceb5b163",
   "metadata": {},
   "outputs": [],
   "source": [
    "cmr_api_url = \"https://cmr.earthdata.nasa.gov/stac/LPCLOUD\"\n",
    "client = Client.open(cmr_api_url)\n",
    "search = client.search(\n",
    "    collections = [\"HLSL30.v2.0\"],\n",
    "    intersects = Point(-73.97, 40.78),\n",
    "    datetime = \"2021-02-01/2021-03-30\",\n",
    ")\n",
    "items = search.item_collection()\n",
    "print(len(items))"
   ]
  },
  {
   "cell_type": "code",
   "execution_count": null,
   "id": "7810e79b-e158-468d-948c-e5ce374c6f59",
   "metadata": {},
   "outputs": [],
   "source": [
    "items_sorted = sorted(items, key=lambda x: x.properties[\"eo:cloud_cover\"]) # sorting and then selecting by cloud cover\n",
    "item = items_sorted[0]\n",
    "print(item)"
   ]
  },
  {
   "cell_type": "code",
   "execution_count": null,
   "id": "511e83fb-1e81-4a86-a830-51f6a5b4b576",
   "metadata": {},
   "outputs": [],
   "source": [
    "print(item.assets[\"browse\"].href)"
   ]
  },
  {
   "cell_type": "code",
   "execution_count": null,
   "id": "d23dfc0b-8b5f-481d-bc1e-e7c7f5f09319",
   "metadata": {},
   "outputs": [],
   "source": [
    "import pystac"
   ]
  },
  {
   "cell_type": "code",
   "execution_count": null,
   "id": "906639f9-6898-424c-b6ad-c06f0613fe67",
   "metadata": {},
   "outputs": [],
   "source": [
    "items = pystac.ItemCollection.from_file(\"search.json\")"
   ]
  },
  {
   "cell_type": "code",
   "execution_count": null,
   "id": "d1e77d7a-25f8-46c7-952b-27af0ed4c2e1",
   "metadata": {},
   "outputs": [],
   "source": [
    "import rioxarray"
   ]
  },
  {
   "cell_type": "code",
   "execution_count": null,
   "id": "b3e52061-96b4-47f0-9fe6-b1e18828dce6",
   "metadata": {},
   "outputs": [],
   "source": [
    "raster_ams_b9 = rioxarray.open_rasterio(items[0].assets[\"nir09\"].href)"
   ]
  },
  {
   "cell_type": "code",
   "execution_count": null,
   "id": "37e10d57-8973-4b60-a5ea-1c2efa7a8dc0",
   "metadata": {},
   "outputs": [],
   "source": [
    "raster_ams_b9"
   ]
  },
  {
   "cell_type": "code",
   "execution_count": null,
   "id": "cd8b5ab0-4ca9-4ad3-bbff-9ec991f88a87",
   "metadata": {},
   "outputs": [],
   "source": [
    "print(raster_ams_b9.rio.crs)\n",
    "print(raster_ams_b9.rio.nodata)\n",
    "print(raster_ams_b9.rio.bounds())\n",
    "print(raster_ams_b9.rio.width)\n",
    "print(raster_ams_b9.rio.height)"
   ]
  },
  {
   "cell_type": "code",
   "execution_count": null,
   "id": "16cb3eb2-6345-463e-8293-5085458d5dd1",
   "metadata": {},
   "outputs": [],
   "source": [
    "raster_ams_b9.values"
   ]
  },
  {
   "cell_type": "code",
   "execution_count": null,
   "id": "6e5327bb-743b-4b0b-9a7a-f89be0be9bae",
   "metadata": {},
   "outputs": [],
   "source": [
    "raster_ams_b9.plot(robust=True)"
   ]
  },
  {
   "cell_type": "code",
   "execution_count": null,
   "id": "60041f6d-f6be-4756-8086-79f53fcecdee",
   "metadata": {},
   "outputs": [],
   "source": [
    "raster_ams_overview.plot.imshow(size=5, aspect=1)"
   ]
  },
  {
   "cell_type": "code",
   "execution_count": null,
   "id": "deaddfa5-04b9-41b0-a84d-29bbce32d81b",
   "metadata": {},
   "outputs": [],
   "source": [
    "import geopandas as gpd"
   ]
  },
  {
   "cell_type": "code",
   "execution_count": null,
   "id": "679c2818-f8f5-41d6-815b-8688b1f0c96d",
   "metadata": {},
   "outputs": [],
   "source": [
    "fields = gpd.read_file(\"data/brpgewaspercelen_definitief_2020_small.gpkg\")\n",
    "fields\n"
   ]
  },
  {
   "cell_type": "code",
   "execution_count": null,
   "id": "583c380f-f369-4f5d-9d06-659ed97950be",
   "metadata": {},
   "outputs": [],
   "source": [
    "xmin, xmax = (110_000, 140_000)\n",
    "ymin, ymax = (470_000, 510_000)\n",
    "bbox = (xmin, ymin, xmax, ymax)\n"
   ]
  },
  {
   "cell_type": "code",
   "execution_count": null,
   "id": "2232e12e-534f-466f-850d-d84e2237cd4a",
   "metadata": {},
   "outputs": [],
   "source": []
  }
 ],
 "metadata": {
  "kernelspec": {
   "display_name": "Python 3 (ipykernel)",
   "language": "python",
   "name": "python3"
  },
  "language_info": {
   "codemirror_mode": {
    "name": "ipython",
    "version": 3
   },
   "file_extension": ".py",
   "mimetype": "text/x-python",
   "name": "python",
   "nbconvert_exporter": "python",
   "pygments_lexer": "ipython3",
   "version": "3.10.13"
  }
 },
 "nbformat": 4,
 "nbformat_minor": 5
}
